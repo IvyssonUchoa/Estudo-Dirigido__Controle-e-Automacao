{
 "cells": [
  {
   "cell_type": "markdown",
   "id": "fa67f81c",
   "metadata": {},
   "source": [
    "<div>\n",
    "  <center><h2><strong>Controle e Automação</strong></h2></center>\n",
    "  <center><h3><strong>ESTUDO DIRIGIDO</strong></h3></center>\n",
    "</div><p>\n",
    "\n"
   ]
  },
  {
   "cell_type": "markdown",
   "id": "974f0174",
   "metadata": {},
   "source": [
    "<div>\n",
    "<center><strong>Semestre:</strong> 2025.1<p></center>\n",
    "<center><strong>Livro Texto:</strong> Sistemas de Controle Moderno (Dorf & Bishop, 8ª Edição)<p></center>\n",
    "<strong>Professor:</strong> Moacy Pereira da Silva<p>\n",
    "<strong>Aluno:</strong> Ivysson Fernandes de Queiroz Uchôa<p>\n"
   ]
  },
  {
   "cell_type": "markdown",
   "id": "9cfd1a16",
   "metadata": {},
   "source": [
    "## __Capítulo 4 - Características de Sistemas de Controle com Realimentação__\n",
    "\n",
    "---"
   ]
  },
  {
   "cell_type": "markdown",
   "id": "ba7dda28",
   "metadata": {},
   "source": [
    "<p>Um sistema de controle consiste na integração de componentes com o objetivo de gerar uma saída específica.\n",
    "<p>Quando se conhece o comportamento desejado desse sistema, é possível calcular o erro entre a saída real e a saída esperada. Esse erro é então utilizado para gerar um sinal de controle, que atua diretamente sobre o processo. Esse mecanismo caracteriza uma operação em malha fechada, conhecida como sistema de realimentação.\n",
    "<p>A realimentação é uma técnica essencial no controle de sistemas dinâmicos, pois permite que o sistema responda de forma mais eficiente a variações no ambiente."
   ]
  },
  {
   "cell_type": "markdown",
   "id": "3105cdb6",
   "metadata": {},
   "source": [
    "### __4.1 - Sistemas de controle a malha aberta e a malha fechada__"
   ]
  },
  {
   "cell_type": "markdown",
   "id": "64a945c5",
   "metadata": {},
   "source": [
    "<p>Os sistemas de controle podem ser de dois tipos: de malha aberta ou de malha fechada:\n",
    "\n",
    "<li> <strong>Sistema em malha aberta (Open-loop): </strong>\n",
    "<p>Um sistema em malha aberta, também conhecido como sistema sem realimentação, responde diretamente ao sinal de entrada, sem levar em conta possíveis variações no ambiente ou no próprio processo. Por não ajustar sua saída com base em medições, esse tipo de sistema é mais suscetível a distúrbios e alterações nos parâmetros do processo.\n",
    "<br>\n",
    "\n",
    "<li> <strong>Sistema em malha fechada (Closed-loop): </strong>\n",
    "<p>Já os sistemas em malha fechada utilizam sensores para monitorar a saída do processo e compará-la com a referência desejada. A diferença entre essas duas informações gera um sinal de erro, que é usado para ajustar o comportamento do sistema. Com isso, tornam-se menos sensíveis a distúrbios e variações nos parâmetros do processo, além de melhorarem a atenuação de ruídos de medição e reduzirem o erro em regime permanente.\n",
    "<br>"
   ]
  },
  {
   "cell_type": "markdown",
   "id": "a202fb02",
   "metadata": {},
   "source": [
    "![image.png](images/image1.png)"
   ]
  },
  {
   "cell_type": "markdown",
   "id": "c9a0f757",
   "metadata": {},
   "source": [
    "<p>O sinal de erro do sistema acima pode ser escrito por: </p>\n",
    "\n",
    "$$\n",
    "E(s)=\\frac{1}{1+G(s)}R(s)\n",
    "$$"
   ]
  },
  {
   "cell_type": "markdown",
   "id": "63ac9a99",
   "metadata": {},
   "source": [
    "### __4.2 - Sensibilidade de sistemas de controle a variações de parâmetros__"
   ]
  },
  {
   "cell_type": "markdown",
   "id": "27a676fb",
   "metadata": {},
   "source": [
    "<p>Uma das principais vantagens dos sistemas de controle em malha fechada é sua capacidade de reduzir a sensibilidade do sistema a variações nos parâmetros do processo\n",
    "<li><strong>A sensibilidade do sistema de malha aberta é definida por:</strong>\n",
    "\n",
    "$$\n",
    "S=\\frac{\\frac{\\Delta T(s)}{T(s)}}{\\frac{\\Delta G(s)}{G(s)}}\n",
    "$$\n",
    "\n",
    "<p> Onde T(s) é:\n",
    "\n",
    "$$\n",
    "T(s) =\\frac{Y(s)}{R(s)}\n",
    "$$\n",
    "\n",
    "<li><strong>A sensibilidade do sistema de malha fechada é definida por:</strong>\n",
    "\n",
    "$$\n",
    "S^T_G=\\frac{1}{1+G(s)H(s)}\n",
    "$$\n",
    "\n",
    "<p>Onde T(s) é:\n",
    "\n",
    "$$\n",
    "T(s) = \\frac{G(s)}{1+GH(s)}\n",
    "$$\n"
   ]
  },
  {
   "cell_type": "markdown",
   "id": "8cdc7e0f",
   "metadata": {},
   "source": [
    "### __4.3 - Sinais de perturbação em um sistema de controle com Realimentação__"
   ]
  },
  {
   "cell_type": "markdown",
   "id": "9218de80",
   "metadata": {},
   "source": [
    "<p>Diversos sistemas de controle podem ser afetados por sinais de perturbação, resultando em saídas imprecisas. Esses sinais correspondem a entradas indesejadas que interferem no comportamento do sistema. \n",
    "<p>Um dos principais benefícios da realimentação em sistemas de controle é justamente atenuar os impactos dessas perturbações."
   ]
  },
  {
   "cell_type": "markdown",
   "id": "21cbbbbf",
   "metadata": {},
   "source": [
    "### __4.4 - Erro de estado estacionário__"
   ]
  },
  {
   "cell_type": "markdown",
   "id": "fa1e8d8c",
   "metadata": {},
   "source": [
    "<p>É sabido que, ao receber um estímulo, um sistema leva certo tempo até alcançar sua estabilização — esse comportamento é denominado resposta transitória.\n",
    "<p>Por outro lado, o erro de regime permanente (ou erro de estado estacionário) refere-se à diferença residual entre a saída do sistema e o valor desejado, após o término da resposta transitória, ou seja, quando resta apenas a resposta em regime contínuo.\n",
    "<p>Esse erro pode ser calculado pela seguinte expressão:\n",
    "\n",
    "$$\n",
    "\\lim_{t\\rightarrow\\infty}e(t) = \\lim_{s\\rightarrow0}sE(s)\n",
    "$$"
   ]
  },
  {
   "cell_type": "markdown",
   "id": "edbfc335",
   "metadata": {},
   "source": [
    "### __4.5 - O Custo da Realimentação__"
   ]
  },
  {
   "cell_type": "markdown",
   "id": "17b75b17",
   "metadata": {},
   "source": [
    "<p>Para implementar a realimentação em um sistema de controle, é preciso incluir alguns componentes específicos, sendo o sensor (ou elemento de medição) o mais importante deles. Frequentemente, o sensor é o componente de maior custo em um sistema de controle, além de poder introduzir ruídos e imprecisões na medição.\n",
    "<p>O primeiro custo associado à realimentação está no aumento da quantidade de componentes e da complexidade do sistema.\n",
    "<p>O segundo custo é a redução do ganho, mais especificamente do ganho da transmitância entre entrada e saída. É importante destacar que, apesar disso, o sistema em malha fechada mantém o ganho de potência proveniente do amplificador e do atuador, que continuam sendo utilizados de forma eficiente.\n",
    "<p>Por fim, o terceiro custo, é que a retroação pode introduzir a possibilidade de instabilidade no sistema. Por isso, ao projetar um sistema de controle, é essencial considerar tanto a complexidade adicional quanto os riscos à estabilidade.\n",
    "<p>Embora a realimentação seja vantajosa na maioria dos casos, ela deve ser aplicada com cautela."
   ]
  },
  {
   "cell_type": "markdown",
   "id": "b9a71c3f",
   "metadata": {},
   "source": [
    "### __4.6 - Exemplo de Projeto: Máquinas perfuratrizes do Canal da Mancha__"
   ]
  },
  {
   "cell_type": "markdown",
   "id": "cca069fe",
   "metadata": {},
   "source": [
    "<strong>Contexto:</strong>\n",
    "<p>O túnel sob o Canal da Mancha conecta a França à Grã-Bretanha, com 37,9 km de extensão e 75 metros abaixo do nível do mar em seu ponto mais baixo. As máquinas de perfuração, operando de ambos os lados do canal, utilizavam um sistema de orientação a laser para manter o alinhamento preciso.\n",
    "<p>O objetivo do projeto é selecionar o ganho de  para que a resposta a mudança no ângulo de entrada seja desejavel."
   ]
  },
  {
   "cell_type": "code",
   "execution_count": 1,
   "id": "9fb10dc5",
   "metadata": {},
   "outputs": [
    {
     "name": "stdout",
     "output_type": "stream",
     "text": [
      "Requirement already satisfied: control in c:\\users\\ivysson\\appdata\\local\\packages\\pythonsoftwarefoundation.python.3.11_qbz5n2kfra8p0\\localcache\\local-packages\\python311\\site-packages (0.10.2)\n",
      "Requirement already satisfied: numpy>=1.23 in c:\\users\\ivysson\\appdata\\local\\packages\\pythonsoftwarefoundation.python.3.11_qbz5n2kfra8p0\\localcache\\local-packages\\python311\\site-packages (from control) (1.26.4)\n",
      "Requirement already satisfied: scipy>=1.8 in c:\\users\\ivysson\\appdata\\local\\packages\\pythonsoftwarefoundation.python.3.11_qbz5n2kfra8p0\\localcache\\local-packages\\python311\\site-packages (from control) (1.14.0)\n",
      "Requirement already satisfied: matplotlib>=3.6 in c:\\users\\ivysson\\appdata\\local\\packages\\pythonsoftwarefoundation.python.3.11_qbz5n2kfra8p0\\localcache\\local-packages\\python311\\site-packages (from control) (3.9.2)\n",
      "Requirement already satisfied: contourpy>=1.0.1 in c:\\users\\ivysson\\appdata\\local\\packages\\pythonsoftwarefoundation.python.3.11_qbz5n2kfra8p0\\localcache\\local-packages\\python311\\site-packages (from matplotlib>=3.6->control) (1.2.1)\n",
      "Requirement already satisfied: cycler>=0.10 in c:\\users\\ivysson\\appdata\\local\\packages\\pythonsoftwarefoundation.python.3.11_qbz5n2kfra8p0\\localcache\\local-packages\\python311\\site-packages (from matplotlib>=3.6->control) (0.12.1)\n",
      "Requirement already satisfied: fonttools>=4.22.0 in c:\\users\\ivysson\\appdata\\local\\packages\\pythonsoftwarefoundation.python.3.11_qbz5n2kfra8p0\\localcache\\local-packages\\python311\\site-packages (from matplotlib>=3.6->control) (4.53.1)\n",
      "Requirement already satisfied: kiwisolver>=1.3.1 in c:\\users\\ivysson\\appdata\\local\\packages\\pythonsoftwarefoundation.python.3.11_qbz5n2kfra8p0\\localcache\\local-packages\\python311\\site-packages (from matplotlib>=3.6->control) (1.4.5)\n",
      "Requirement already satisfied: packaging>=20.0 in c:\\users\\ivysson\\appdata\\local\\packages\\pythonsoftwarefoundation.python.3.11_qbz5n2kfra8p0\\localcache\\local-packages\\python311\\site-packages (from matplotlib>=3.6->control) (24.1)\n",
      "Requirement already satisfied: pillow>=8 in c:\\users\\ivysson\\appdata\\local\\packages\\pythonsoftwarefoundation.python.3.11_qbz5n2kfra8p0\\localcache\\local-packages\\python311\\site-packages (from matplotlib>=3.6->control) (10.4.0)\n",
      "Requirement already satisfied: pyparsing>=2.3.1 in c:\\users\\ivysson\\appdata\\local\\packages\\pythonsoftwarefoundation.python.3.11_qbz5n2kfra8p0\\localcache\\local-packages\\python311\\site-packages (from matplotlib>=3.6->control) (3.1.2)\n",
      "Requirement already satisfied: python-dateutil>=2.7 in c:\\users\\ivysson\\appdata\\local\\packages\\pythonsoftwarefoundation.python.3.11_qbz5n2kfra8p0\\localcache\\local-packages\\python311\\site-packages (from matplotlib>=3.6->control) (2.9.0.post0)\n",
      "Requirement already satisfied: six>=1.5 in c:\\users\\ivysson\\appdata\\local\\packages\\pythonsoftwarefoundation.python.3.11_qbz5n2kfra8p0\\localcache\\local-packages\\python311\\site-packages (from python-dateutil>=2.7->matplotlib>=3.6->control) (1.16.0)\n"
     ]
    },
    {
     "name": "stderr",
     "output_type": "stream",
     "text": [
      "\n",
      "[notice] A new release of pip is available: 25.0.1 -> 25.1.1\n",
      "[notice] To update, run: C:\\Users\\Ivysson\\AppData\\Local\\Microsoft\\WindowsApps\\PythonSoftwareFoundation.Python.3.11_qbz5n2kfra8p0\\python.exe -m pip install --upgrade pip\n"
     ]
    }
   ],
   "source": [
    "! pip install control"
   ]
  },
  {
   "cell_type": "code",
   "execution_count": 2,
   "id": "c0db2fb6",
   "metadata": {},
   "outputs": [
    {
     "data": {
      "image/png": "[encoded data removed]",
      "text/plain": [
       "<Figure size 640x480 with 1 Axes>"
      ]
     },
     "metadata": {},
     "output_type": "display_data"
    },
    {
     "name": "stdout",
     "output_type": "stream",
     "text": [
      "Função de Transferência para K1:\n",
      "<TransferFunction>: sys[3]\n",
      "Inputs (1): ['u[0]']\n",
      "Outputs (1): ['y[0]']\n",
      "\n",
      "          s^2 + 3 s + 2\n",
      "  -----------------------------\n",
      "  s^4 + 5 s^3 + 9 s^2 + 7 s + 3\n",
      "\n",
      "Função de Transferência para K2:\n",
      "<TransferFunction>: sys[4]\n",
      "Inputs (1): ['u[0]']\n",
      "Outputs (1): ['y[0]']\n",
      "\n",
      "          s^2 + 3 s + 2\n",
      "  -----------------------------\n",
      "  s^4 + 5 s^3 + 9 s^2 + 7 s + 4\n"
     ]
    }
   ],
   "source": [
    "import control as ctl\n",
    "import matplotlib.pyplot as plt\n",
    "\n",
    "# Definição dos coeficientes do numerador e denominador\n",
    "num1 = [1]  # Exemplo: K1 = 1\n",
    "num2 = [2]  # Exemplo: K2 = 2\n",
    "den = [1, 3, 2]  # Exemplo de denominador\n",
    "\n",
    "# Funções de transferência dos controladores\n",
    "H1 = ctl.TransferFunction(num1, den)\n",
    "H2 = ctl.TransferFunction(num2, den)\n",
    "\n",
    "# Sistema em malha aberta\n",
    "G = ctl.TransferFunction([1], [1, 2, 1])  # Exemplo de sistema G(s)\n",
    "\n",
    "# Sistemas em malha fechada\n",
    "retro1 = ctl.feedback(G, H1)\n",
    "retro2 = ctl.feedback(G, H2)\n",
    "\n",
    "# Resposta ao degrau\n",
    "t1, y1 = ctl.step_response(retro1)\n",
    "t2, y2 = ctl.step_response(retro2)\n",
    "\n",
    "# Plotando a resposta ao degrau para os dois sistemas\n",
    "plt.figure()\n",
    "plt.plot(t1, y1, label='K = 1')\n",
    "plt.plot(t2, y2, label='K = 2')\n",
    "plt.xlabel('Tempo (s)')\n",
    "plt.ylabel('y(t)')\n",
    "plt.legend()\n",
    "plt.grid()\n",
    "plt.show()\n",
    "\n",
    "# Exibindo as funções de transferência em malha fechada\n",
    "print(\"Função de Transferência para K1:\")\n",
    "print(retro1)\n",
    "\n",
    "print(\"\\nFunção de Transferência para K2:\")\n",
    "print(retro2)\n"
   ]
  }
 ],
 "metadata": {
  "kernelspec": {
   "display_name": "Python 3",
   "language": "python",
   "name": "python3"
  },
  "language_info": {
   "codemirror_mode": {
    "name": "ipython",
    "version": 3
   },
   "file_extension": ".py",
   "mimetype": "text/x-python",
   "name": "python",
   "nbconvert_exporter": "python",
   "pygments_lexer": "ipython3",
   "version": "3.11.9"
  }
 },
 "nbformat": 4,
 "nbformat_minor": 5
}
