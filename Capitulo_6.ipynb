{
 "cells": [
  {
   "cell_type": "markdown",
   "id": "cd764bd6",
   "metadata": {},
   "source": [
    "<div>\n",
    "  <center><h2><strong>Controle e Automação</strong></h2></center>\n",
    "  <center><h3><strong>ESTUDO DIRIGIDO</strong></h3></center>\n",
    "</div><p>\n",
    "\n"
   ]
  },
  {
   "cell_type": "markdown",
   "id": "3462abcf",
   "metadata": {},
   "source": [
    "<div>\n",
    "<center><strong>Semestre:</strong> 2025.1<p></center>\n",
    "<center><strong>Livro Texto:</strong> Sistemas de Controle Moderno (Dorf & Bishop, 8ª Edição)<p></center>\n",
    "<strong>Professor:</strong> Moacy Pereira da Silva<p>\n",
    "<strong>Aluno:</strong> Ivysson Fernandes de Queiroz Uchôa<p>\n"
   ]
  },
  {
   "cell_type": "markdown",
   "id": "35972416",
   "metadata": {},
   "source": [
    "# Capítulo 6: A estabilidade de sistemas lineares com Realimentação\n",
    "\n",
    "___"
   ]
  },
  {
   "cell_type": "markdown",
   "id": "7362b6b4",
   "metadata": {},
   "source": [
    "## 6.1 – Conceito de Estabilidade"
   ]
  },
  {
   "cell_type": "markdown",
   "id": "37df7caa",
   "metadata": {},
   "source": [
    "<p>A estabilidade de um sistema de controle está intimamente relacionada à posição dos polos da sua função de transferência no domínio de Laplace. Um sistema é considerado estável quando todos os seus polos estão localizados no semiplano esquerdo do plano \n",
    "𝑠. Caso ao menos um polo esteja no semiplano direito, o sistema é instável. Já se um ou mais polos estiverem exatamente sobre o eixo imaginário, o sistema é classificado como marginalmente estável, podendo apresentar oscilações sustentadas.\n",
    "\n",
    "<p>Um exemplo clássico do efeito potencialmente desestabilizador da realimentação ocorre em sistemas de som amplificado, como os usados em auditórios para endereços públicos. Quando o microfone é colocado muito próximo ao alto-falante, a realimentação pode tornar o sistema instável, provocando amplificação excessiva e distorção sonora, resultando no conhecido efeito de microfonia."
   ]
  },
  {
   "cell_type": "markdown",
   "id": "6bcdc8ad",
   "metadata": {},
   "source": [
    "## 6.2 - O Critério de Estabilidade de Routh-Hurwitz"
   ]
  },
  {
   "cell_type": "markdown",
   "id": "7c61d00f",
   "metadata": {},
   "source": [
    "<p>O critério de estabilidade de Routh-Hurwitz é uma ferramenta essencial para a análise da estabilidade de sistemas lineares. Esse método permite verificar se todas as raízes da equação característica de um sistema possuem parte real negativa, o que garante a estabilidade do sistema.\n",
    "\n",
    "<p>O critério baseia-se na construção da chamada tabela de Routh, formada a partir dos coeficientes da equação característica do sistema. Essa equação é geralmente representada da seguinte forma:\n",
    "\n",
    "$a_n s^n + a_{n-1} s^{n-1} + \\dots + a_1 s + a_0 = 0$\n",
    "\n",
    "<p>A análise é feita observando-se a primeira coluna da tabela de Routh. A quantidade de mudanças de sinal nessa coluna indica o número de raízes com parte real positiva, ou seja, quantos polos estão no semiplano direito do plano \n",
    "𝑠. Para que o sistema seja considerado estável, não deve haver nenhuma mudança de sinal, o que implica que todos os polos estão localizados no semiplano esquerdo.\n",
    "\n",
    "<p>O critério de Routh-Hurwitz oferece, assim, uma maneira prática e eficiente de avaliar a estabilidade sem a necessidade de calcular explicitamente as raízes da equação característica."
   ]
  },
  {
   "cell_type": "markdown",
   "id": "b8c3716d",
   "metadata": {},
   "source": [
    "<p>A matriz de Routh é organizada da seguinte forma:\n",
    "\n",
    "![image.png](images/image3.png)\n",
    "\n",
    "<p>As linhas subsequentes são preenchidas utilizando a fórmula: \n",
    "\n",
    "$b_{n-1} = \\frac{a_{n-1} a_{n-2} - a_n a_{n-3}}{a_{n-1}}$\n"
   ]
  },
  {
   "cell_type": "markdown",
   "id": "4368338e",
   "metadata": {},
   "source": [
    "<h4>Casos Especiais no Critério de Routh-Hurwitz</h3>\n",
    "\n",
    "<p>Ao aplicar o critério de Routh-Hurwitz, quatro situações distintas podem ocorrer. Cada uma exige um tratamento específico:</p>\n",
    "\n",
    "<ol>\n",
    "  <li>\n",
    "    <strong>Nenhum elemento zero na primeira coluna:</strong><br>\n",
    "    Se todos os elementos da primeira coluna da tabela de Routh são diferentes de zero e não há mudanças de sinal, o sistema é <strong>estável</strong>.\n",
    "  </li>\n",
    "\n",
    "  <li>\n",
    "    <strong>Elemento zero na primeira coluna, mas outros na mesma linha não são zero:</strong><br>\n",
    "    Nesse caso, o zero é substituído por um pequeno número positivo (<code>&epsilon;</code>) para continuar a construção da tabela. \n",
    "    A análise prossegue normalmente e, ao final, avalia-se o comportamento do sistema considerando o limite quando <code>&epsilon; &rarr; 0</code>.\n",
    "  </li>\n",
    "\n",
    "  <li>\n",
    "    <strong>Todos os elementos de uma linha são zero:</strong><br>\n",
    "    Quando uma linha inteira da tabela contém apenas zeros, utiliza-se um <strong>polinômio auxiliar</strong>, derivado da linha imediatamente anterior, \n",
    "    para substituir essa linha e continuar a análise.\n",
    "  </li>\n",
    "\n",
    "  <li>\n",
    "    <strong>Raízes no eixo imaginário:</strong><br>\n",
    "    Se o sistema possui raízes no eixo imaginário:\n",
    "    <ul>\n",
    "      <li>Se forem <em>simples</em> (não repetidas), o sistema é <strong>marginalmente estável</strong>.</li>\n",
    "      <li>Se forem <em>repetidas</em>, o sistema torna-se <strong>instável</strong>.</li>\n",
    "    </ul>\n",
    "  </li>\n",
    "</ol>\n"
   ]
  },
  {
   "cell_type": "markdown",
   "id": "04da8b53",
   "metadata": {},
   "source": [
    "## 6.3 A estabilidade relativa de sistemas de controle com realimentação"
   ]
  },
  {
   "cell_type": "markdown",
   "id": "496eac46",
   "metadata": {},
   "source": [
    "<p>O critério de Routh-Hurwitz fornece apenas uma avaliação parcial da estabilidade de um sistema. Ele garante que, se houver raízes no semiplano direito do plano \n",
    "𝑠, o sistema será instável. Por outro lado, se todas as raízes estiverem no semiplano esquerdo, o sistema possui estabilidade absoluta.\n",
    "\n",
    "<p>Entretanto, mesmo quando a estabilidade absoluta é verificada, é importante avaliar também a estabilidade relativa. Essa análise permite determinar a localização dos polos de malha fechada no plano 𝑠, o que está diretamente relacionado ao desempenho do sistema, incluindo características como tempo de resposta, ultrapassagem e amortecimento.\n",
    "\n",
    "<p>Para realizar a análise da estabilidade relativa, é necessário encontrar as raízes da equação característica. Isso pode ser feito por meio de uma extensão do critério de Routh-Hurwitz, que envolve a substituição de variáveis de forma a deslocar os eixos no plano 𝑠, permitindo uma avaliação mais precisa da posição dos polos em relação à origem."
   ]
  },
  {
   "cell_type": "markdown",
   "id": "6fa9f142",
   "metadata": {},
   "source": [
    "## 6.4 - A Estabilidade dos Sistemas de Variáveis de Estado"
   ]
  },
  {
   "cell_type": "markdown",
   "id": "d5f50b56",
   "metadata": {},
   "source": [
    "<p>A estabilidade de um sistema modelado por variáveis de estado pode ser avaliada por meio do gráfico de fluxo de sinal ou do diagrama de blocos. Para isso, é necessário obter a equação característica do sistema, que pode ser determinada calculando o determinante associado ao gráfico de fluxo de sinal ou aplicando técnicas de redução de diagramas de blocos."
   ]
  },
  {
   "cell_type": "markdown",
   "id": "fde20f93",
   "metadata": {},
   "source": [
    "## 6.5 Estabilidade de um sistema usando o Matlab"
   ]
  },
  {
   "cell_type": "code",
   "execution_count": 1,
   "id": "ebc3a928",
   "metadata": {},
   "outputs": [
    {
     "name": "stdout",
     "output_type": "stream",
     "text": [
      "Requirement already satisfied: control in c:\\users\\ivysson\\appdata\\local\\packages\\pythonsoftwarefoundation.python.3.11_qbz5n2kfra8p0\\localcache\\local-packages\\python311\\site-packages (0.10.2)\n",
      "Requirement already satisfied: numpy>=1.23 in c:\\users\\ivysson\\appdata\\local\\packages\\pythonsoftwarefoundation.python.3.11_qbz5n2kfra8p0\\localcache\\local-packages\\python311\\site-packages (from control) (1.26.4)\n",
      "Requirement already satisfied: scipy>=1.8 in c:\\users\\ivysson\\appdata\\local\\packages\\pythonsoftwarefoundation.python.3.11_qbz5n2kfra8p0\\localcache\\local-packages\\python311\\site-packages (from control) (1.14.0)\n",
      "Requirement already satisfied: matplotlib>=3.6 in c:\\users\\ivysson\\appdata\\local\\packages\\pythonsoftwarefoundation.python.3.11_qbz5n2kfra8p0\\localcache\\local-packages\\python311\\site-packages (from control) (3.9.2)\n",
      "Requirement already satisfied: contourpy>=1.0.1 in c:\\users\\ivysson\\appdata\\local\\packages\\pythonsoftwarefoundation.python.3.11_qbz5n2kfra8p0\\localcache\\local-packages\\python311\\site-packages (from matplotlib>=3.6->control) (1.2.1)\n",
      "Requirement already satisfied: cycler>=0.10 in c:\\users\\ivysson\\appdata\\local\\packages\\pythonsoftwarefoundation.python.3.11_qbz5n2kfra8p0\\localcache\\local-packages\\python311\\site-packages (from matplotlib>=3.6->control) (0.12.1)\n",
      "Requirement already satisfied: fonttools>=4.22.0 in c:\\users\\ivysson\\appdata\\local\\packages\\pythonsoftwarefoundation.python.3.11_qbz5n2kfra8p0\\localcache\\local-packages\\python311\\site-packages (from matplotlib>=3.6->control) (4.53.1)\n",
      "Requirement already satisfied: kiwisolver>=1.3.1 in c:\\users\\ivysson\\appdata\\local\\packages\\pythonsoftwarefoundation.python.3.11_qbz5n2kfra8p0\\localcache\\local-packages\\python311\\site-packages (from matplotlib>=3.6->control) (1.4.5)\n",
      "Requirement already satisfied: packaging>=20.0 in c:\\users\\ivysson\\appdata\\local\\packages\\pythonsoftwarefoundation.python.3.11_qbz5n2kfra8p0\\localcache\\local-packages\\python311\\site-packages (from matplotlib>=3.6->control) (24.1)\n",
      "Requirement already satisfied: pillow>=8 in c:\\users\\ivysson\\appdata\\local\\packages\\pythonsoftwarefoundation.python.3.11_qbz5n2kfra8p0\\localcache\\local-packages\\python311\\site-packages (from matplotlib>=3.6->control) (10.4.0)\n",
      "Requirement already satisfied: pyparsing>=2.3.1 in c:\\users\\ivysson\\appdata\\local\\packages\\pythonsoftwarefoundation.python.3.11_qbz5n2kfra8p0\\localcache\\local-packages\\python311\\site-packages (from matplotlib>=3.6->control) (3.1.2)\n",
      "Requirement already satisfied: python-dateutil>=2.7 in c:\\users\\ivysson\\appdata\\local\\packages\\pythonsoftwarefoundation.python.3.11_qbz5n2kfra8p0\\localcache\\local-packages\\python311\\site-packages (from matplotlib>=3.6->control) (2.9.0.post0)\n",
      "Requirement already satisfied: six>=1.5 in c:\\users\\ivysson\\appdata\\local\\packages\\pythonsoftwarefoundation.python.3.11_qbz5n2kfra8p0\\localcache\\local-packages\\python311\\site-packages (from python-dateutil>=2.7->matplotlib>=3.6->control) (1.16.0)\n"
     ]
    },
    {
     "name": "stderr",
     "output_type": "stream",
     "text": [
      "\n",
      "[notice] A new release of pip is available: 25.0.1 -> 25.1.1\n",
      "[notice] To update, run: C:\\Users\\Ivysson\\AppData\\Local\\Microsoft\\WindowsApps\\PythonSoftwareFoundation.Python.3.11_qbz5n2kfra8p0\\python.exe -m pip install --upgrade pip\n"
     ]
    }
   ],
   "source": [
    "! pip install control"
   ]
  },
  {
   "cell_type": "code",
   "execution_count": 3,
   "id": "87c45d78",
   "metadata": {},
   "outputs": [
    {
     "name": "stdout",
     "output_type": "stream",
     "text": [
      "<TransferFunction>: sys[2]\n",
      "Inputs (1): ['u[0]']\n",
      "Outputs (1): ['y[0]']\n",
      "\n",
      "           1\n",
      "  --------------------\n",
      "  s^3 + s^2 + 2 s + 24\n",
      "(-3.000000000000001+0j)\n",
      "(0.9999999999999993+2.6457513110645916j)\n",
      "(0.9999999999999993-2.6457513110645916j)\n",
      "[ 20  21  22  23  24  25  26  27  28  29  30  31  32  33  34  35  36  37\n",
      "  38  39  40  41  42  43  44  45  46  47  48  49  50  51  52  53  54  55\n",
      "  56  57  58  59  60  61  62  63  64  65  66  67  68  69  70  71  72  73\n",
      "  74  75  76  77  78  79  80  81  82  83  84  85  86  87  88  89  90  91\n",
      "  92  93  94  95  96  97  98  99 100 101 102 103 104 105 106 107 108 109\n",
      " 110 111 112 113 114 115 116 117 118 119 120]\n"
     ]
    },
    {
     "data": {
      "image/png": "[encoded data removed]",
      "text/plain": [
       "<Figure size 640x480 with 1 Axes>"
      ]
     },
     "metadata": {},
     "output_type": "display_data"
    }
   ],
   "source": [
    "import numpy as np\n",
    "import matplotlib.pyplot as plt\n",
    "import control as ctl\n",
    "\n",
    "# Definição da função de transferência\n",
    "numg = [1]\n",
    "deng = [1, 1, 2, 23]\n",
    "\n",
    "sys = ctl.TransferFunction(numg, deng)\n",
    "\n",
    "# Criando a realimentação unitária\n",
    "retro = ctl.feedback(sys, 1)  # Agora a realimentação é explicitamente 1\n",
    "\n",
    "# Exibir a função de transferência em malha fechada\n",
    "print(retro)\n",
    "\n",
    "raizes = np.roots([1, 1, 2, 24])\n",
    "\n",
    "print(raizes[0])\n",
    "print(raizes[1])\n",
    "print(raizes[2])\n",
    "\n",
    "import numpy as np\n",
    "import matplotlib.pyplot as plt\n",
    "\n",
    "a = np.array(np.arange(0.1, 3.0 + 0.01, 0.01))\n",
    "K = np.array(np.arange(20, 120 + 1, 1))\n",
    "X = 0 * K\n",
    "Y = 0 * K\n",
    "n = len(K)\n",
    "m = len(a)\n",
    "\n",
    "print(K)\n",
    "\n",
    "for i in np.arange(1, n).reshape(-1):\n",
    "    for j in np.arange(1, m).reshape(-1):\n",
    "        q = np.array([1, 8, 17, K[i] + 10, K[i] * a[j]])\n",
    "        p = np.roots(q)\n",
    "\n",
    "        if np.amax(p) > 0:\n",
    "            X[i] = K[i]\n",
    "            Y[i] = a[j - 1]\n",
    "            break\n",
    "\n",
    "plt.plot(X, Y)\n",
    "plt.xlabel('K')\n",
    "plt.ylabel('a')\n",
    "\n",
    "import numpy as np\n",
    "import matplotlib.pyplot as plt\n",
    "import control as ctl  # Biblioteca correta\n",
    "\n",
    "# Vetor de tempo\n",
    "t = np.arange(0, 10.01, 0.01)\n",
    "u = t  # Entrada rampa\n",
    "\n",
    "# Definição das funções de transferência\n",
    "numgc = [1, 0.6]\n",
    "dengc = [1, 1]\n",
    "\n",
    "numg = [70]\n",
    "deng = [1, 7, 10, 0]\n",
    "\n",
    "# Criando as funções de transferência corretamente\n",
    "sys1 = ctl.TransferFunction(numgc, dengc)\n",
    "sys2 = ctl.TransferFunction(numg, deng)\n",
    "\n",
    "# Multiplicação em série\n",
    "function1 = ctl.series(sys1, sys2)\n",
    "\n",
    "# Criando a realimentação unitária\n",
    "function2 = ctl.feedback(function1, 1)\n",
    "\n",
    "# Simulação da resposta ao sinal de entrada (rampa)\n",
    "t_out, y_out = ctl.forced_response(function2, T=t, U=u)\n",
    "\n",
    "# Plotando os resultados\n",
    "plt.plot(t_out, y_out, label=\"y(t)\")\n",
    "plt.plot(t, u, label=\"Entrada em rampa\", linestyle=\"dashed\")\n",
    "plt.xlabel(\"Tempo (s)\")\n",
    "plt.ylabel(\"Amplitude\")\n",
    "plt.title(\"Resposta ao Sinal de Entrada Rampa\")\n",
    "plt.legend()\n",
    "plt.grid()\n",
    "plt.show()\n"
   ]
  }
 ],
 "metadata": {
  "kernelspec": {
   "display_name": "Python 3",
   "language": "python",
   "name": "python3"
  },
  "language_info": {
   "codemirror_mode": {
    "name": "ipython",
    "version": 3
   },
   "file_extension": ".py",
   "mimetype": "text/x-python",
   "name": "python",
   "nbconvert_exporter": "python",
   "pygments_lexer": "ipython3",
   "version": "3.11.9"
  }
 },
 "nbformat": 4,
 "nbformat_minor": 5
}
