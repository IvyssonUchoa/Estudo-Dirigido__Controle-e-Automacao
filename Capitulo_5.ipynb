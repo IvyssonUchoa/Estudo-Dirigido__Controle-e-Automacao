{
 "cells": [
  {
   "cell_type": "markdown",
   "id": "b6e3becf",
   "metadata": {},
   "source": [
    "<div>\n",
    "  <center><h2><strong>Controle e Automação</strong></h2></center>\n",
    "  <center><h3><strong>ESTUDO DIRIGIDO</strong></h3></center>\n",
    "</div><p>\n",
    "\n"
   ]
  },
  {
   "cell_type": "markdown",
   "id": "27e23290",
   "metadata": {},
   "source": [
    "<div>\n",
    "<center><strong>Semestre:</strong> 2025.1<p></center>\n",
    "<center><strong>Livro Texto:</strong> Sistemas de Controle Moderno (Dorf & Bishop, 8ª Edição)<p></center>\n",
    "<strong>Professor:</strong> Moacy Pereira da Silva<p>\n",
    "<strong>Aluno:</strong> Ivysson Fernandes de Queiroz Uchôa<p>\n"
   ]
  },
  {
   "cell_type": "markdown",
   "id": "30ba3d5e",
   "metadata": {},
   "source": [
    "## __Capítulo 5 - O Desempenho de Sistemas de Controle com Realimentação__\n",
    "\n",
    "---"
   ]
  },
  {
   "cell_type": "markdown",
   "id": "70b570cf",
   "metadata": {},
   "source": [
    "<p>\n",
    "  Os <strong>sistemas de controle com realimentação</strong> oferecem a vantagem de permitir o ajuste tanto do \n",
    "  <em>desempenho transitório</em> quanto do <em>comportamento em regime permanente</em>.\n",
    "</p>\n",
    "\n",
    "<p>\n",
    "  O desempenho do sistema é geralmente analisado em dois aspectos principais: a \n",
    "  <strong>resposta transitória</strong>, que corresponde ao comportamento temporário e tende a desaparecer com o tempo, \n",
    "  e a <strong>resposta em regime permanente</strong>, que representa o comportamento estável do sistema após a aplicação da entrada.\n",
    "</p>\n",
    "\n",
    "<p>\n",
    "  Para que seja possível <strong>analisar e projetar</strong> adequadamente um sistema de controle, \n",
    "  é fundamental <em>definir critérios de desempenho</em> e <em>avaliá-los quantitativamente</em>.\n",
    "</p>\n"
   ]
  },
  {
   "cell_type": "markdown",
   "id": "70d5bcc8",
   "metadata": {},
   "source": [
    "## 5.1 Sinais de entrada para teste"
   ]
  },
  {
   "cell_type": "markdown",
   "id": "40fbe604",
   "metadata": {},
   "source": [
    "<p>\n",
    "  Para avaliar o <strong>desempenho de um sistema de controle</strong>, utilizam-se <strong>sinais de entrada padrão</strong>, \n",
    "  que funcionam como referência para testar a resposta do sistema em diferentes condições operacionais.\n",
    "</p>\n",
    "\n",
    "<p>\n",
    "  Os sinais mais comuns são:\n",
    "  <strong>degrau unitário</strong>, <strong>rampa unitária</strong> e <strong>parábola unitária</strong>.\n",
    "</p>\n",
    "\n",
    "<p>Cada um desses sinais possui uma interpretação prática:</p>\n",
    "\n",
    "<ul>\n",
    "  <li>\n",
    "    <strong>Degrau unitário:</strong> simula uma <em>variação repentina</em> na entrada, como a aplicação súbita de uma tensão ou força.\n",
    "  </li>\n",
    "  <li>\n",
    "    <strong>Rampa unitária:</strong> representa um <em>aumento linear</em> ao longo do tempo, comum em processos com aceleração constante.\n",
    "  </li>\n",
    "  <li>\n",
    "    <strong>Parábola unitária:</strong> indica uma <em>variação acelerada</em>, sendo útil para avaliar sistemas sujeitos a mudanças de segunda ordem no tempo.\n",
    "  </li>\n",
    "</ul>\n"
   ]
  },
  {
   "cell_type": "markdown",
   "id": "8456d7c7",
   "metadata": {},
   "source": [
    "<p>Esses sinais são representados graficamente e suas equações são fornecidas  abaixo\n",
    "\n",
    "![image.png](images/image2.png)"
   ]
  },
  {
   "cell_type": "markdown",
   "id": "860e9af1",
   "metadata": {},
   "source": [
    "## 5.2 Desempenho de um sistema de segunda ordem"
   ]
  },
  {
   "cell_type": "markdown",
   "id": "214cda61",
   "metadata": {},
   "source": [
    "<p>A resposta de um sistema de segunda ordem com uma única malha a um sinal de entrada em degrau unitário, é definida por:\n",
    "\n",
    "$$\n",
    "Y(s) = \\frac{G(s)}{1 + G(s)} R(s)\n",
    "$$\n",
    "\n",
    "<p>Para um sistema de segunda ordem, a função de transferência pode ser escrita como:\n",
    "\n",
    "$$\n",
    "Y(s) = \\frac{\\omega_n^2}{s^2 + 2\\zeta\\omega_n s + \\omega_n^2} R(s)\n",
    "$$\n",
    "\n",
    "<p>Com uma entrada degrau unitário, temos:\n",
    "\n",
    "$$\n",
    "Y(s) = \\frac{\\omega_n^2}{s \\left( s^2 + 2\\zeta\\omega_n s + \\omega_n^2 \\right)}\n",
    "$$\n",
    "\n"
   ]
  },
  {
   "cell_type": "markdown",
   "id": "52a3de9d",
   "metadata": {},
   "source": [
    "## 5.3 Estimativa da relação de amortecimento"
   ]
  },
  {
   "cell_type": "markdown",
   "id": "aab22a65",
   "metadata": {},
   "source": [
    "<p>A razão de amortecimento de um sistema de controle pode ser estimada com base em sua resposta a uma entrada em degrau.\n",
    "\n",
    "<p>No caso de um sistema de segunda ordem, essa resposta ao degrau unitário pode ser descrita pela seguinte equação:\n",
    "\n",
    "$$\n",
    "y(t) = 1 - \\frac{1}{\\beta} e^{-\\zeta \\omega_n t} \\sin(\\omega_n \\beta t + \\theta)\n",
    "$$\n",
    "\n",
    "<p>Onde Beta é\n",
    "\n",
    "$$\n",
    "\\beta = \\sqrt{1 - \\zeta^2} \\quad \\text{e} \\quad \\theta = \\cos^{-1} \\zeta\n",
    "$$\n",
    "\n",
    "\n",
    "<p>Portanto, a frequência do termo senoidal amortecido é:\n",
    "\n",
    "$$\n",
    "\\omega = \\omega_n \\left( 1 - \\zeta^2 \\right)^{1/2} = \\omega_n \\beta\n",
    "$$\n"
   ]
  },
  {
   "cell_type": "markdown",
   "id": "cf270751",
   "metadata": {},
   "source": [
    "## 5.4 Localização das raízes do plano  e a resposta transitória\n"
   ]
  },
  {
   "cell_type": "markdown",
   "id": "2fa87ce7",
   "metadata": {},
   "source": [
    "<p>A resposta transitória de um sistema de controle com realimentação está diretamente relacionada à localização dos polos da sua função de transferência no plano \n",
    "𝑠.\n",
    "\n",
    "<p>Essa resposta pode ser analisada por meio da função de transferência em malha fechada, que é expressa por:\n",
    "\n",
    "$$\n",
    "T(s) = \\frac{Y(s)}{R(s)} = \\frac{P(s)}{\\Delta(s)}\n",
    "$$\n",
    "\n",
    "<p>A localização dos polos da função de transferência de um sistema de controle em malha fechada permite determinar sua resposta transitória.\n",
    "\n",
    "<p>Um projetista de controle competente deve ser capaz de prever os efeitos causados pela adição, remoção ou deslocamento de polos e zeros da função \n",
    "𝑇(𝑠) no plano 𝑠, especialmente no que diz respeito às respostas ao degrau e ao impulso\n",
    "\n",
    "<p>Um bom projetista também antecipa a influência dos zeros na forma da resposta do sistema.\n",
    "Enquanto os polos de 𝑇(𝑠) definem os modos naturais de resposta, os zeros determinam os pesos relativos de cada modo, influenciando diretamente o comportamento dinâmico do sistema."
   ]
  },
  {
   "cell_type": "markdown",
   "id": "ca319e77",
   "metadata": {},
   "source": [
    "## 5.5 Índices de desempenho"
   ]
  },
  {
   "cell_type": "markdown",
   "id": "78073b52",
   "metadata": {},
   "source": [
    "<p>\n",
    "  Atualmente, os <strong>sistemas de controle</strong> podem ser projetados com <em>especificações de desempenho quantitativas</em>, \n",
    "  permitindo uma análise mais precisa da sua eficácia.\n",
    "</p>\n",
    "\n",
    "<p>\n",
    "  Para isso, utiliza-se um <strong>índice de desempenho</strong>, cujo objetivo é <em>mensurar numericamente a qualidade do sistema</em> em termos de resposta.\n",
    "</p>\n",
    "\n",
    "<p>\n",
    "  Um sistema é considerado <strong>ótimo</strong> quando seus parâmetros são ajustados de forma a \n",
    "  <em>minimizar (ou maximizar)</em> esse índice, sendo comum a busca por um <strong>valor mínimo</strong>.\n",
    "</p>\n",
    "\n",
    "<p>\n",
    "  Entre os métodos mais utilizados para essa finalidade está a \n",
    "  <strong>Integral do Quadrado do Erro</strong> \n",
    "  (ISE), definida por:\n",
    "</p>\n",
    "\n",
    "$$\n",
    "\\text{ISE} = \\int_0^T e^2(t) \\, dt\n",
    "$$\n",
    "\n",
    "<p>onde T é um tempo finito arbitrário que faz com que a integral tenda a um valor estacionário. Geralmente é atribuído o tempo de assentamento a T"
   ]
  },
  {
   "cell_type": "markdown",
   "id": "69c38879",
   "metadata": {},
   "source": [
    "<p>\n",
    "  Além da ISE, existem <strong>três outros índices de desempenho</strong> amplamente utilizados na análise de sistemas de controle:\n",
    "</p>\n",
    "\n",
    "<ul>\n",
    "  <li>\n",
    "    <strong>IAE</strong> – <em>Integral of the Absolute Error</em> (Integral do Valor Absoluto do Erro);\n",
    "  </li>\n",
    "\n",
    "  $$\n",
    "  \\text{I)}\\quad IAE = \\int_0^T |e(t)| \\, dt\n",
    "  $$\n",
    "\n",
    "  <li>\n",
    "    <strong>ITAE</strong> – <em>Integral of Time multiplied by the Absolute Error</em> (Integral do Tempo multiplicado pelo Valor Absoluto do Erro);\n",
    "  </li>\n",
    "\n",
    "  $$\n",
    "  \\text{II)}\\quad ITAE = \\int_0^T t |e(t)| \\, dt\n",
    "  $$\n",
    "\n",
    "  <li>\n",
    "    <strong>ITSE</strong> – <em>Integral of Time multiplied by the Square of the Error</em> (Integral do Tempo multiplicado pelo Quadrado do Erro).\n",
    "  </li>\n",
    "\n",
    "  $$\n",
    "  \\text{III)}\\quad ITSE = \\int_0^T t e^2(t) \\, dt\n",
    "  $$\n",
    "\n",
    "</ul>\n",
    "\n",
    "<p>\n",
    "  Esses índices fornecem diferentes formas de avaliar o desempenho do sistema, \n",
    "  destacando aspectos como <em>rapidez</em>, <em>tempo de acomodação</em> e <em>persistência do erro</em> ao longo do tempo.\n",
    "</p>\n"
   ]
  },
  {
   "cell_type": "markdown",
   "id": "427c8793",
   "metadata": {},
   "source": [
    "\n",
    "\n",
    "\n",
    "\n",
    "## 5.6 A simplificação de sistemas lineares\n"
   ]
  },
  {
   "cell_type": "markdown",
   "id": "1585bf9e",
   "metadata": {},
   "source": [
    "<p>\n",
    "Para eliminar um polo irrelevante, deve-se verificar se sua parte real negativa é significativamente maior do que a dos demais polos, de modo que ele tenha impacto mínimo na resposta transitória do sistema. Considere, por exemplo, o sistema descrito pela função de transferência:\n",
    "\n",
    "$$\n",
    "G(s) = \\frac{K}{s(s + 2)(s + 30)}\n",
    "$$\n",
    "\n",
    "<p>É possivel desconsidera p polo em  s = -30\n",
    "\n",
    "$$\\\n",
    "G(s) = \\frac{\\frac{K}{30}}{s(s + 2)}\n",
    "$$\n",
    "\n"
   ]
  },
  {
   "cell_type": "markdown",
   "id": "a18dbccb",
   "metadata": {},
   "source": [
    "## 5.7 Exemplo: Controle do Telescópio Espacial Hubble"
   ]
  },
  {
   "cell_type": "markdown",
   "id": "930fea36",
   "metadata": {},
   "source": [
    "<p>O telescópio Hubble atualmente esta em órbita é o mais complexo e caro instrumento usado pelos cientistas. O objetivo do projeto é escolher K_1 E K para que quando acontecesse um comando de degrau unitario a saida não fosse maior que 10% e que o erro estacionário e o seja efeito de pertubação seja reduzido e minimizado."
   ]
  },
  {
   "cell_type": "code",
   "execution_count": null,
   "id": "9b903461",
   "metadata": {},
   "outputs": [],
   "source": [
    "! pip install control"
   ]
  },
  {
   "cell_type": "code",
   "execution_count": 2,
   "id": "0c620541",
   "metadata": {},
   "outputs": [
    {
     "data": {
      "image/png": "[encoded data removed]",
      "text/plain": [
       "<Figure size 640x480 with 1 Axes>"
      ]
     },
     "metadata": {},
     "output_type": "display_data"
    },
    {
     "name": "stdout",
     "output_type": "stream",
     "text": [
      "Ultrapassagem percentual: 9.47%\n",
      "Tempo de pico: 0.40 s\n"
     ]
    }
   ],
   "source": [
    "import numpy as np\n",
    "import matplotlib.pyplot as plt\n",
    "import control as ctl\n",
    "\n",
    "# Parâmetros do sistema\n",
    "zeta = 0.6\n",
    "omega_n = 10\n",
    "K = omega_n**2\n",
    "K1 = 2 * zeta * omega_n\n",
    "\n",
    "# Função de transferência do sistema\n",
    "num = [K]\n",
    "den = [1, K1, K]\n",
    "sys = ctl.TransferFunction(num, den)\n",
    "\n",
    "# Resposta ao degrau\n",
    "t, y = ctl.step_response(sys)\n",
    "\n",
    "# Plotando a resposta\n",
    "plt.figure()\n",
    "plt.plot(t, y)\n",
    "plt.title('Resposta ao Degrau do Sistema')\n",
    "plt.xlabel('Tempo (s)')\n",
    "plt.ylabel('Saída y(t)')\n",
    "plt.grid()\n",
    "plt.show()\n",
    "\n",
    "# Calculando a ultrapassagem percentual\n",
    "peak_time = t[np.argmax(y)]\n",
    "peak_value = np.max(y)\n",
    "overshoot = (peak_value - 1) * 100\n",
    "print(f'Ultrapassagem percentual: {overshoot:.2f}%')\n",
    "print(f'Tempo de pico: {peak_time:.2f} s')\n"
   ]
  },
  {
   "cell_type": "markdown",
   "id": "2c7fdcc4",
   "metadata": {},
   "source": [
    "<p>Uma abordagem eficaz busca aproximar ao máximo a resposta em frequência da função reduzida à da função original. O método de aproximação utilizado depende da forma como essa função é manipulada algebraicamente."
   ]
  },
  {
   "cell_type": "markdown",
   "id": "d570acb6",
   "metadata": {},
   "source": [
    "## 5.8 Exemplo: Um modelo simplificado"
   ]
  },
  {
   "cell_type": "code",
   "execution_count": 3,
   "id": "69aeb4ea",
   "metadata": {},
   "outputs": [
    {
     "data": {
      "image/png": "[encoded data removed]",
      "text/plain": [
       "<Figure size 640x480 with 1 Axes>"
      ]
     },
     "metadata": {},
     "output_type": "display_data"
    }
   ],
   "source": [
    "\n",
    "import numpy as np\n",
    "import matplotlib.pyplot as plt\n",
    "import control as ctl\n",
    "\n",
    "# Função de transferência original (terceira ordem)\n",
    "num_original = [6]\n",
    "den_original = [1, 6, 11, 6]\n",
    "sys_original = ctl.TransferFunction(num_original, den_original)\n",
    "\n",
    "# Função de transferência aproximada (segunda ordem)\n",
    "num_approx = [1.60]\n",
    "den_approx = [1, 2.590, 1.60]\n",
    "sys_approx = ctl.TransferFunction(num_approx, den_approx)\n",
    "\n",
    "# Resposta ao degrau\n",
    "t = np.linspace(0, 10, 1000)\n",
    "t_original, y_original = ctl.step_response(sys_original, T=t)\n",
    "t_approx, y_approx = ctl.step_response(sys_approx, T=t)\n",
    "\n",
    "# Plotando as respostas\n",
    "plt.figure()\n",
    "plt.plot(t_original, y_original, label='Original (3ª ordem)')\n",
    "plt.plot(t_approx, y_approx, label='Aproximada (2ª ordem)', linestyle='--')\n",
    "plt.title('Resposta ao Degrau do Sistema')\n",
    "plt.xlabel('Tempo (s)')\n",
    "plt.ylabel('Saída y(t)')\n",
    "plt.legend()\n",
    "plt.grid()\n",
    "plt.show()\n"
   ]
  },
  {
   "cell_type": "code",
   "execution_count": null,
   "id": "2c6b6411",
   "metadata": {},
   "outputs": [],
   "source": []
  },
  {
   "cell_type": "markdown",
   "id": "1ebaa158",
   "metadata": {},
   "source": []
  }
 ],
 "metadata": {
  "kernelspec": {
   "display_name": "Python 3",
   "language": "python",
   "name": "python3"
  },
  "language_info": {
   "codemirror_mode": {
    "name": "ipython",
    "version": 3
   },
   "file_extension": ".py",
   "mimetype": "text/x-python",
   "name": "python",
   "nbconvert_exporter": "python",
   "pygments_lexer": "ipython3",
   "version": "3.11.9"
  }
 },
 "nbformat": 4,
 "nbformat_minor": 5
}
